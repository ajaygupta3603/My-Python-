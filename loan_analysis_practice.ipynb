{
 "cells": [
  {
   "cell_type": "markdown",
   "id": "f9cc154d",
   "metadata": {},
   "source": [
    "\n",
    "# 🧠 Python Data Analysis Practice: Loan Data\n",
    "\n",
    "This notebook contains **10 hands-on exercises** for practicing **Python, NumPy, Pandas, and Seaborn** using a synthetic `loan_data.csv` file.\n",
    "\n",
    "---\n",
    "\n",
    "### 📂 Dataset Info\n",
    "File: `loan_data.csv`  \n",
    "Rows: 10,000  \n",
    "Columns: 13  \n",
    "Each record represents a loan application with attributes like income, education, property area, credit history, and loan approval status.\n",
    "\n",
    "---\n"
   ]
  },
  {
   "cell_type": "code",
   "execution_count": 8,
   "id": "185e0ae1-3b0c-43c3-961d-d5d84ef30c16",
   "metadata": {},
   "outputs": [
    {
     "data": {
      "text/html": [
       "<div>\n",
       "<style scoped>\n",
       "    .dataframe tbody tr th:only-of-type {\n",
       "        vertical-align: middle;\n",
       "    }\n",
       "\n",
       "    .dataframe tbody tr th {\n",
       "        vertical-align: top;\n",
       "    }\n",
       "\n",
       "    .dataframe thead th {\n",
       "        text-align: right;\n",
       "    }\n",
       "</style>\n",
       "<table border=\"1\" class=\"dataframe\">\n",
       "  <thead>\n",
       "    <tr style=\"text-align: right;\">\n",
       "      <th></th>\n",
       "      <th>Loan_ID</th>\n",
       "      <th>Gender</th>\n",
       "      <th>Married</th>\n",
       "      <th>Dependents</th>\n",
       "      <th>Education</th>\n",
       "      <th>Self_Employed</th>\n",
       "      <th>ApplicantIncome</th>\n",
       "      <th>CoapplicantIncome</th>\n",
       "      <th>LoanAmount</th>\n",
       "      <th>Loan_Amount_Term</th>\n",
       "      <th>Credit_History</th>\n",
       "      <th>Property_Area</th>\n",
       "      <th>Loan_Status</th>\n",
       "    </tr>\n",
       "  </thead>\n",
       "  <tbody>\n",
       "    <tr>\n",
       "      <th>0</th>\n",
       "      <td>LN00001</td>\n",
       "      <td>Male</td>\n",
       "      <td>Yes</td>\n",
       "      <td>0</td>\n",
       "      <td>Graduate</td>\n",
       "      <td>No</td>\n",
       "      <td>19606</td>\n",
       "      <td>4057</td>\n",
       "      <td>646</td>\n",
       "      <td>84</td>\n",
       "      <td>0.0</td>\n",
       "      <td>Semiurban</td>\n",
       "      <td>Y</td>\n",
       "    </tr>\n",
       "    <tr>\n",
       "      <th>1</th>\n",
       "      <td>LN00002</td>\n",
       "      <td>Female</td>\n",
       "      <td>Yes</td>\n",
       "      <td>1</td>\n",
       "      <td>Graduate</td>\n",
       "      <td>Yes</td>\n",
       "      <td>12456</td>\n",
       "      <td>5320</td>\n",
       "      <td>514</td>\n",
       "      <td>60</td>\n",
       "      <td>1.0</td>\n",
       "      <td>Rural</td>\n",
       "      <td>Y</td>\n",
       "    </tr>\n",
       "    <tr>\n",
       "      <th>2</th>\n",
       "      <td>LN00003</td>\n",
       "      <td>Male</td>\n",
       "      <td>No</td>\n",
       "      <td>1</td>\n",
       "      <td>Graduate</td>\n",
       "      <td>No</td>\n",
       "      <td>11725</td>\n",
       "      <td>326</td>\n",
       "      <td>92</td>\n",
       "      <td>84</td>\n",
       "      <td>0.0</td>\n",
       "      <td>Rural</td>\n",
       "      <td>Y</td>\n",
       "    </tr>\n",
       "    <tr>\n",
       "      <th>3</th>\n",
       "      <td>LN00004</td>\n",
       "      <td>Male</td>\n",
       "      <td>Yes</td>\n",
       "      <td>0</td>\n",
       "      <td>Not Graduate</td>\n",
       "      <td>Yes</td>\n",
       "      <td>10983</td>\n",
       "      <td>122</td>\n",
       "      <td>333</td>\n",
       "      <td>84</td>\n",
       "      <td>1.0</td>\n",
       "      <td>Semiurban</td>\n",
       "      <td>Y</td>\n",
       "    </tr>\n",
       "    <tr>\n",
       "      <th>4</th>\n",
       "      <td>LN00005</td>\n",
       "      <td>Male</td>\n",
       "      <td>No</td>\n",
       "      <td>0</td>\n",
       "      <td>Graduate</td>\n",
       "      <td>No</td>\n",
       "      <td>9748</td>\n",
       "      <td>5127</td>\n",
       "      <td>216</td>\n",
       "      <td>84</td>\n",
       "      <td>1.0</td>\n",
       "      <td>Urban</td>\n",
       "      <td>Y</td>\n",
       "    </tr>\n",
       "  </tbody>\n",
       "</table>\n",
       "</div>"
      ],
      "text/plain": [
       "   Loan_ID  Gender Married Dependents     Education Self_Employed  \\\n",
       "0  LN00001    Male     Yes          0      Graduate            No   \n",
       "1  LN00002  Female     Yes          1      Graduate           Yes   \n",
       "2  LN00003    Male      No          1      Graduate            No   \n",
       "3  LN00004    Male     Yes          0  Not Graduate           Yes   \n",
       "4  LN00005    Male      No          0      Graduate            No   \n",
       "\n",
       "   ApplicantIncome  CoapplicantIncome  LoanAmount  Loan_Amount_Term  \\\n",
       "0            19606               4057         646                84   \n",
       "1            12456               5320         514                60   \n",
       "2            11725                326          92                84   \n",
       "3            10983                122         333                84   \n",
       "4             9748               5127         216                84   \n",
       "\n",
       "   Credit_History Property_Area Loan_Status  \n",
       "0             0.0     Semiurban           Y  \n",
       "1             1.0         Rural           Y  \n",
       "2             0.0         Rural           Y  \n",
       "3             1.0     Semiurban           Y  \n",
       "4             1.0         Urban           Y  "
      ]
     },
     "execution_count": 8,
     "metadata": {},
     "output_type": "execute_result"
    }
   ],
   "source": []
  },
  {
   "cell_type": "markdown",
   "id": "866afced",
   "metadata": {},
   "source": [
    "### 1️⃣ Load the dataset and display its shape, info, and first 5 rows."
   ]
  },
  {
   "cell_type": "code",
   "execution_count": 1,
   "id": "b32bd4e4",
   "metadata": {},
   "outputs": [
    {
     "name": "stdout",
     "output_type": "stream",
     "text": [
      "Shape: (10000, 13)\n",
      "\n",
      "info: \n",
      "<class 'pandas.core.frame.DataFrame'>\n",
      "RangeIndex: 10000 entries, 0 to 9999\n",
      "Data columns (total 13 columns):\n",
      " #   Column             Non-Null Count  Dtype  \n",
      "---  ------             --------------  -----  \n",
      " 0   Loan_ID            10000 non-null  object \n",
      " 1   Gender             10000 non-null  object \n",
      " 2   Married            10000 non-null  object \n",
      " 3   Dependents         10000 non-null  object \n",
      " 4   Education          10000 non-null  object \n",
      " 5   Self_Employed      10000 non-null  object \n",
      " 6   ApplicantIncome    10000 non-null  int64  \n",
      " 7   CoapplicantIncome  10000 non-null  int64  \n",
      " 8   LoanAmount         10000 non-null  int64  \n",
      " 9   Loan_Amount_Term   10000 non-null  int64  \n",
      " 10  Credit_History     10000 non-null  float64\n",
      " 11  Property_Area      10000 non-null  object \n",
      " 12  Loan_Status        10000 non-null  object \n",
      "dtypes: float64(1), int64(4), object(8)\n",
      "memory usage: 1015.8+ KB\n",
      "None\n"
     ]
    },
    {
     "data": {
      "text/html": [
       "<div>\n",
       "<style scoped>\n",
       "    .dataframe tbody tr th:only-of-type {\n",
       "        vertical-align: middle;\n",
       "    }\n",
       "\n",
       "    .dataframe tbody tr th {\n",
       "        vertical-align: top;\n",
       "    }\n",
       "\n",
       "    .dataframe thead th {\n",
       "        text-align: right;\n",
       "    }\n",
       "</style>\n",
       "<table border=\"1\" class=\"dataframe\">\n",
       "  <thead>\n",
       "    <tr style=\"text-align: right;\">\n",
       "      <th></th>\n",
       "      <th>Loan_ID</th>\n",
       "      <th>Gender</th>\n",
       "      <th>Married</th>\n",
       "      <th>Dependents</th>\n",
       "      <th>Education</th>\n",
       "      <th>Self_Employed</th>\n",
       "      <th>ApplicantIncome</th>\n",
       "      <th>CoapplicantIncome</th>\n",
       "      <th>LoanAmount</th>\n",
       "      <th>Loan_Amount_Term</th>\n",
       "      <th>Credit_History</th>\n",
       "      <th>Property_Area</th>\n",
       "      <th>Loan_Status</th>\n",
       "    </tr>\n",
       "  </thead>\n",
       "  <tbody>\n",
       "    <tr>\n",
       "      <th>0</th>\n",
       "      <td>LN00001</td>\n",
       "      <td>Male</td>\n",
       "      <td>Yes</td>\n",
       "      <td>0</td>\n",
       "      <td>Graduate</td>\n",
       "      <td>No</td>\n",
       "      <td>19606</td>\n",
       "      <td>4057</td>\n",
       "      <td>646</td>\n",
       "      <td>84</td>\n",
       "      <td>0.0</td>\n",
       "      <td>Semiurban</td>\n",
       "      <td>Y</td>\n",
       "    </tr>\n",
       "    <tr>\n",
       "      <th>1</th>\n",
       "      <td>LN00002</td>\n",
       "      <td>Female</td>\n",
       "      <td>Yes</td>\n",
       "      <td>1</td>\n",
       "      <td>Graduate</td>\n",
       "      <td>Yes</td>\n",
       "      <td>12456</td>\n",
       "      <td>5320</td>\n",
       "      <td>514</td>\n",
       "      <td>60</td>\n",
       "      <td>1.0</td>\n",
       "      <td>Rural</td>\n",
       "      <td>Y</td>\n",
       "    </tr>\n",
       "    <tr>\n",
       "      <th>2</th>\n",
       "      <td>LN00003</td>\n",
       "      <td>Male</td>\n",
       "      <td>No</td>\n",
       "      <td>1</td>\n",
       "      <td>Graduate</td>\n",
       "      <td>No</td>\n",
       "      <td>11725</td>\n",
       "      <td>326</td>\n",
       "      <td>92</td>\n",
       "      <td>84</td>\n",
       "      <td>0.0</td>\n",
       "      <td>Rural</td>\n",
       "      <td>Y</td>\n",
       "    </tr>\n",
       "    <tr>\n",
       "      <th>3</th>\n",
       "      <td>LN00004</td>\n",
       "      <td>Male</td>\n",
       "      <td>Yes</td>\n",
       "      <td>0</td>\n",
       "      <td>Not Graduate</td>\n",
       "      <td>Yes</td>\n",
       "      <td>10983</td>\n",
       "      <td>122</td>\n",
       "      <td>333</td>\n",
       "      <td>84</td>\n",
       "      <td>1.0</td>\n",
       "      <td>Semiurban</td>\n",
       "      <td>Y</td>\n",
       "    </tr>\n",
       "    <tr>\n",
       "      <th>4</th>\n",
       "      <td>LN00005</td>\n",
       "      <td>Male</td>\n",
       "      <td>No</td>\n",
       "      <td>0</td>\n",
       "      <td>Graduate</td>\n",
       "      <td>No</td>\n",
       "      <td>9748</td>\n",
       "      <td>5127</td>\n",
       "      <td>216</td>\n",
       "      <td>84</td>\n",
       "      <td>1.0</td>\n",
       "      <td>Urban</td>\n",
       "      <td>Y</td>\n",
       "    </tr>\n",
       "  </tbody>\n",
       "</table>\n",
       "</div>"
      ],
      "text/plain": [
       "   Loan_ID  Gender Married Dependents     Education Self_Employed  \\\n",
       "0  LN00001    Male     Yes          0      Graduate            No   \n",
       "1  LN00002  Female     Yes          1      Graduate           Yes   \n",
       "2  LN00003    Male      No          1      Graduate            No   \n",
       "3  LN00004    Male     Yes          0  Not Graduate           Yes   \n",
       "4  LN00005    Male      No          0      Graduate            No   \n",
       "\n",
       "   ApplicantIncome  CoapplicantIncome  LoanAmount  Loan_Amount_Term  \\\n",
       "0            19606               4057         646                84   \n",
       "1            12456               5320         514                60   \n",
       "2            11725                326          92                84   \n",
       "3            10983                122         333                84   \n",
       "4             9748               5127         216                84   \n",
       "\n",
       "   Credit_History Property_Area Loan_Status  \n",
       "0             0.0     Semiurban           Y  \n",
       "1             1.0         Rural           Y  \n",
       "2             0.0         Rural           Y  \n",
       "3             1.0     Semiurban           Y  \n",
       "4             1.0         Urban           Y  "
      ]
     },
     "execution_count": 1,
     "metadata": {},
     "output_type": "execute_result"
    }
   ],
   "source": [
    "import pandas as pd \n",
    "df = pd.read_csv('loan_data (1).csv')\n",
    "print('Shape:', df.shape)\n",
    "print('\\ninfo: ')\n",
    "print(df.info())\n",
    "df.head(5)\n"
   ]
  },
  {
   "cell_type": "markdown",
   "id": "698c76a0",
   "metadata": {},
   "source": [
    "### 2️⃣ Check for missing values and handle them appropriately (if any)."
   ]
  },
  {
   "cell_type": "code",
   "execution_count": 2,
   "id": "ad1d6c64",
   "metadata": {},
   "outputs": [],
   "source": [
    "df.isnull().sum()\n",
    "df.fillna(df.median(numeric_only = True), inplace= True)\n"
   ]
  },
  {
   "cell_type": "markdown",
   "id": "732650f1",
   "metadata": {},
   "source": [
    "### 3️⃣ Find the mean, median, and standard deviation of the LoanAmount column."
   ]
  },
  {
   "cell_type": "code",
   "execution_count": 3,
   "id": "4e08c5f6",
   "metadata": {},
   "outputs": [
    {
     "name": "stdout",
     "output_type": "stream",
     "text": [
      " Mean: 374.7789, Median: 374.0, STD: 188.81999765369468\n"
     ]
    }
   ],
   "source": [
    "Mean = df.LoanAmount.mean()\n",
    "Median = df.LoanAmount.median()\n",
    "STD = df.LoanAmount.std()\n",
    "\n",
    "print(f' Mean: {Mean}, Median: {Median}, STD: {STD}')"
   ]
  },
  {
   "cell_type": "markdown",
   "id": "043a5c19",
   "metadata": {},
   "source": [
    "### 4️⃣ Using NumPy, normalize the ApplicantIncome column and plot its distribution."
   ]
  },
  {
   "cell_type": "code",
   "execution_count": 7,
   "id": "a68b54c2",
   "metadata": {},
   "outputs": [
    {
     "data": {
      "text/plain": [
       "<Axes: xlabel='NormalizedIncome', ylabel='Count'>"
      ]
     },
     "execution_count": 7,
     "metadata": {},
     "output_type": "execute_result"
    },
    {
     "data": {
      "image/png": "[encoded data removed]",
      "text/plain": [
       "<Figure size 640x480 with 1 Axes>"
      ]
     },
     "metadata": {},
     "output_type": "display_data"
    }
   ],
   "source": [
    "import numpy as np\n",
    "import matplotlib.pyplot as plt \n",
    "import seaborn as sns \n",
    "df['NormalizedIncome'] = (df['ApplicantIncome'] - np.mean(df['ApplicantIncome'])) / np.std(df['ApplicantIncome'])\n",
    "sns.histplot(df['NormalizedIncome'], bins=10, kde=True)\n"
   ]
  },
  {
   "cell_type": "markdown",
   "id": "ed426196",
   "metadata": {},
   "source": [
    "### 5️⃣ Filter applicants with income above the mean who got their loan approved."
   ]
  },
  {
   "cell_type": "code",
   "execution_count": 22,
   "id": "09870790",
   "metadata": {},
   "outputs": [
    {
     "data": {
      "text/html": [
       "<div>\n",
       "<style scoped>\n",
       "    .dataframe tbody tr th:only-of-type {\n",
       "        vertical-align: middle;\n",
       "    }\n",
       "\n",
       "    .dataframe tbody tr th {\n",
       "        vertical-align: top;\n",
       "    }\n",
       "\n",
       "    .dataframe thead th {\n",
       "        text-align: right;\n",
       "    }\n",
       "</style>\n",
       "<table border=\"1\" class=\"dataframe\">\n",
       "  <thead>\n",
       "    <tr style=\"text-align: right;\">\n",
       "      <th></th>\n",
       "      <th>Loan_ID</th>\n",
       "      <th>Gender</th>\n",
       "      <th>Married</th>\n",
       "      <th>Dependents</th>\n",
       "      <th>Education</th>\n",
       "      <th>Self_Employed</th>\n",
       "      <th>ApplicantIncome</th>\n",
       "      <th>CoapplicantIncome</th>\n",
       "      <th>LoanAmount</th>\n",
       "      <th>Loan_Amount_Term</th>\n",
       "      <th>Credit_History</th>\n",
       "      <th>Property_Area</th>\n",
       "      <th>Loan_Status</th>\n",
       "      <th>NormalizedIncome</th>\n",
       "    </tr>\n",
       "  </thead>\n",
       "  <tbody>\n",
       "    <tr>\n",
       "      <th>0</th>\n",
       "      <td>LN00001</td>\n",
       "      <td>Male</td>\n",
       "      <td>Yes</td>\n",
       "      <td>0</td>\n",
       "      <td>Graduate</td>\n",
       "      <td>No</td>\n",
       "      <td>19606</td>\n",
       "      <td>4057</td>\n",
       "      <td>646</td>\n",
       "      <td>84</td>\n",
       "      <td>0.0</td>\n",
       "      <td>Semiurban</td>\n",
       "      <td>Y</td>\n",
       "      <td>1.655756</td>\n",
       "    </tr>\n",
       "    <tr>\n",
       "      <th>1</th>\n",
       "      <td>LN00002</td>\n",
       "      <td>Female</td>\n",
       "      <td>Yes</td>\n",
       "      <td>1</td>\n",
       "      <td>Graduate</td>\n",
       "      <td>Yes</td>\n",
       "      <td>12456</td>\n",
       "      <td>5320</td>\n",
       "      <td>514</td>\n",
       "      <td>60</td>\n",
       "      <td>1.0</td>\n",
       "      <td>Rural</td>\n",
       "      <td>Y</td>\n",
       "      <td>0.286510</td>\n",
       "    </tr>\n",
       "    <tr>\n",
       "      <th>2</th>\n",
       "      <td>LN00003</td>\n",
       "      <td>Male</td>\n",
       "      <td>No</td>\n",
       "      <td>1</td>\n",
       "      <td>Graduate</td>\n",
       "      <td>No</td>\n",
       "      <td>11725</td>\n",
       "      <td>326</td>\n",
       "      <td>92</td>\n",
       "      <td>84</td>\n",
       "      <td>0.0</td>\n",
       "      <td>Rural</td>\n",
       "      <td>Y</td>\n",
       "      <td>0.146522</td>\n",
       "    </tr>\n",
       "    <tr>\n",
       "      <th>3</th>\n",
       "      <td>LN00004</td>\n",
       "      <td>Male</td>\n",
       "      <td>Yes</td>\n",
       "      <td>0</td>\n",
       "      <td>Not Graduate</td>\n",
       "      <td>Yes</td>\n",
       "      <td>10983</td>\n",
       "      <td>122</td>\n",
       "      <td>333</td>\n",
       "      <td>84</td>\n",
       "      <td>1.0</td>\n",
       "      <td>Semiurban</td>\n",
       "      <td>Y</td>\n",
       "      <td>0.004426</td>\n",
       "    </tr>\n",
       "    <tr>\n",
       "      <th>5</th>\n",
       "      <td>LN00006</td>\n",
       "      <td>Female</td>\n",
       "      <td>Yes</td>\n",
       "      <td>0</td>\n",
       "      <td>Graduate</td>\n",
       "      <td>No</td>\n",
       "      <td>15560</td>\n",
       "      <td>8193</td>\n",
       "      <td>449</td>\n",
       "      <td>36</td>\n",
       "      <td>1.0</td>\n",
       "      <td>Semiurban</td>\n",
       "      <td>Y</td>\n",
       "      <td>0.880935</td>\n",
       "    </tr>\n",
       "  </tbody>\n",
       "</table>\n",
       "</div>"
      ],
      "text/plain": [
       "   Loan_ID  Gender Married Dependents     Education Self_Employed  \\\n",
       "0  LN00001    Male     Yes          0      Graduate            No   \n",
       "1  LN00002  Female     Yes          1      Graduate           Yes   \n",
       "2  LN00003    Male      No          1      Graduate            No   \n",
       "3  LN00004    Male     Yes          0  Not Graduate           Yes   \n",
       "5  LN00006  Female     Yes          0      Graduate            No   \n",
       "\n",
       "   ApplicantIncome  CoapplicantIncome  LoanAmount  Loan_Amount_Term  \\\n",
       "0            19606               4057         646                84   \n",
       "1            12456               5320         514                60   \n",
       "2            11725                326          92                84   \n",
       "3            10983                122         333                84   \n",
       "5            15560               8193         449                36   \n",
       "\n",
       "   Credit_History Property_Area Loan_Status  NormalizedIncome  \n",
       "0             0.0     Semiurban           Y          1.655756  \n",
       "1             1.0         Rural           Y          0.286510  \n",
       "2             0.0         Rural           Y          0.146522  \n",
       "3             1.0     Semiurban           Y          0.004426  \n",
       "5             1.0     Semiurban           Y          0.880935  "
      ]
     },
     "execution_count": 22,
     "metadata": {},
     "output_type": "execute_result"
    }
   ],
   "source": [
    "High_income = df[df['ApplicantIncome'] > df['ApplicantIncome'].mean()]\n",
    "Approved_loan = High_income[High_income['Loan_Status']== 'Y']\n",
    "Approved_loan.head()\n"
   ]
  },
  {
   "cell_type": "markdown",
   "id": "4fe8d40b",
   "metadata": {},
   "source": [
    "### 6️⃣ Group by Education and Property_Area to find the average LoanAmount."
   ]
  },
  {
   "cell_type": "code",
   "execution_count": 26,
   "id": "7d6f9c6c",
   "metadata": {},
   "outputs": [
    {
     "data": {
      "text/html": [
       "<div>\n",
       "<style scoped>\n",
       "    .dataframe tbody tr th:only-of-type {\n",
       "        vertical-align: middle;\n",
       "    }\n",
       "\n",
       "    .dataframe tbody tr th {\n",
       "        vertical-align: top;\n",
       "    }\n",
       "\n",
       "    .dataframe thead th {\n",
       "        text-align: right;\n",
       "    }\n",
       "</style>\n",
       "<table border=\"1\" class=\"dataframe\">\n",
       "  <thead>\n",
       "    <tr style=\"text-align: right;\">\n",
       "      <th></th>\n",
       "      <th>Education</th>\n",
       "      <th>Property_Area</th>\n",
       "      <th>LoanAmount</th>\n",
       "    </tr>\n",
       "  </thead>\n",
       "  <tbody>\n",
       "    <tr>\n",
       "      <th>0</th>\n",
       "      <td>Graduate</td>\n",
       "      <td>Rural</td>\n",
       "      <td>378.576648</td>\n",
       "    </tr>\n",
       "    <tr>\n",
       "      <th>1</th>\n",
       "      <td>Graduate</td>\n",
       "      <td>Semiurban</td>\n",
       "      <td>372.634528</td>\n",
       "    </tr>\n",
       "    <tr>\n",
       "      <th>2</th>\n",
       "      <td>Graduate</td>\n",
       "      <td>Urban</td>\n",
       "      <td>376.079577</td>\n",
       "    </tr>\n",
       "    <tr>\n",
       "      <th>3</th>\n",
       "      <td>Not Graduate</td>\n",
       "      <td>Rural</td>\n",
       "      <td>362.580705</td>\n",
       "    </tr>\n",
       "    <tr>\n",
       "      <th>4</th>\n",
       "      <td>Not Graduate</td>\n",
       "      <td>Semiurban</td>\n",
       "      <td>384.678171</td>\n",
       "    </tr>\n",
       "    <tr>\n",
       "      <th>5</th>\n",
       "      <td>Not Graduate</td>\n",
       "      <td>Urban</td>\n",
       "      <td>368.296731</td>\n",
       "    </tr>\n",
       "  </tbody>\n",
       "</table>\n",
       "</div>"
      ],
      "text/plain": [
       "      Education Property_Area  LoanAmount\n",
       "0      Graduate         Rural  378.576648\n",
       "1      Graduate     Semiurban  372.634528\n",
       "2      Graduate         Urban  376.079577\n",
       "3  Not Graduate         Rural  362.580705\n",
       "4  Not Graduate     Semiurban  384.678171\n",
       "5  Not Graduate         Urban  368.296731"
      ]
     },
     "execution_count": 26,
     "metadata": {},
     "output_type": "execute_result"
    }
   ],
   "source": [
    "\n",
    "grouped = df.groupby(['Education', 'Property_Area'])['LoanAmount'].mean().reset_index()\n",
    "grouped"
   ]
  },
  {
   "cell_type": "markdown",
   "id": "8deeea1c",
   "metadata": {},
   "source": [
    "### 7️⃣ Visualize Loan_Status count by Gender using a Seaborn barplot."
   ]
  },
  {
   "cell_type": "code",
   "execution_count": 34,
   "id": "2f6422f3",
   "metadata": {},
   "outputs": [
    {
     "data": {
      "text/plain": [
       "<Axes: xlabel='Gender', ylabel='count'>"
      ]
     },
     "execution_count": 34,
     "metadata": {},
     "output_type": "execute_result"
    },
    {
     "data": {
      "image/png": "[encoded data removed]",
      "text/plain": [
       "<Figure size 640x480 with 1 Axes>"
      ]
     },
     "metadata": {},
     "output_type": "display_data"
    }
   ],
   "source": [
    "sns.countplot(df, x = 'Gender', hue = \"Loan_Status\" , palette= 'pastel')"
   ]
  },
  {
   "cell_type": "markdown",
   "id": "fd1ab79c",
   "metadata": {},
   "source": [
    "### 8️⃣ Create a boxplot of ApplicantIncome vs Loan_Status."
   ]
  },
  {
   "cell_type": "code",
   "execution_count": 42,
   "id": "af7c6dcf",
   "metadata": {},
   "outputs": [
    {
     "data": {
      "text/plain": [
       "Text(0.5, 1.0, 'ApplicantIncome vs Loan_Status')"
      ]
     },
     "execution_count": 42,
     "metadata": {},
     "output_type": "execute_result"
    },
    {
     "data": {
      "image/png": "[encoded data removed]",
      "text/plain": [
       "<Figure size 640x480 with 1 Axes>"
      ]
     },
     "metadata": {},
     "output_type": "display_data"
    }
   ],
   "source": [
    "sns.boxplot(df, x = 'Loan_Status', y = 'ApplicantIncome', hue = 'Loan_Status', palette='coolwarm')\n",
    "plt.title('ApplicantIncome vs Loan_Status')"
   ]
  }
 ],
 "metadata": {
  "kernelspec": {
   "display_name": "Python 3 (ipykernel)",
   "language": "python",
   "name": "python3"
  },
  "language_info": {
   "codemirror_mode": {
    "name": "ipython",
    "version": 3
   },
   "file_extension": ".py",
   "mimetype": "text/x-python",
   "name": "python",
   "nbconvert_exporter": "python",
   "pygments_lexer": "ipython3",
   "version": "3.13.5"
  }
 },
 "nbformat": 4,
 "nbformat_minor": 5
}
